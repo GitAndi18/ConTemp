{
 "cells": [
  {
   "cell_type": "markdown",
   "id": "3bf7de60-2305-4b0a-9373-d56046101c01",
   "metadata": {},
   "source": [
    "### Introduction Contact Temperature"
   ]
  },
  {
   "cell_type": "markdown",
   "id": "e22544b9-2359-474d-a1bf-6aa05f17520c",
   "metadata": {},
   "source": [
    "In this section we will look at the temperature that occurs when two bodies come into contact with each other. This is important when assessing thermal comfort when touching - objects you come into contact with should feel pleasant. An important aspect of this is the contact temperature."
   ]
  }
 ],
 "metadata": {
  "kernelspec": {
   "display_name": "Python 3 (ipykernel)",
   "language": "python",
   "name": "python3"
  },
  "language_info": {
   "codemirror_mode": {
    "name": "ipython",
    "version": 3
   },
   "file_extension": ".py",
   "mimetype": "text/x-python",
   "name": "python",
   "nbconvert_exporter": "python",
   "pygments_lexer": "ipython3",
   "version": "3.7.1"
  }
 },
 "nbformat": 4,
 "nbformat_minor": 5
}