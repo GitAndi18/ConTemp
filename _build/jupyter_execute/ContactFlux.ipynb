{
 "cells": [
  {
   "cell_type": "markdown",
   "metadata": {
    "editable": true,
    "slideshow": {
     "slide_type": ""
    },
    "tags": []
   },
   "source": [
    "# Contact Flux\n",
    "\n",
    "In this chapter we will calculate the contactflux at the contact point.\n",
    "\n",
    "The script is here {download}`Script <./F.pdf>`."
   ]
  },
  {
   "cell_type": "code",
   "execution_count": 1,
   "metadata": {
    "editable": true,
    "slideshow": {
     "slide_type": ""
    },
    "tags": []
   },
   "outputs": [],
   "source": [
    "# Load packages\n",
    "from matplotlib import rcParams, cycler\n",
    "import matplotlib.pyplot as plt\n",
    "import numpy as np\n",
    "import ipywidgets as widgets\n",
    "from ipywidgets import HBox, VBox\n",
    "#%matplotlib ipympl"
   ]
  },
  {
   "cell_type": "code",
   "execution_count": 2,
   "metadata": {},
   "outputs": [
    {
     "data": {
      "application/vnd.jupyter.widget-view+json": {
       "model_id": "ad57513768134c66abf59fa490c82d83",
       "version_major": 2,
       "version_minor": 0
      },
      "text/plain": [
       "interactive(children=(IntSlider(value=1000, description='b2', max=2000), Checkbox(value=True, description='gri…"
      ]
     },
     "metadata": {},
     "output_type": "display_data"
    }
   ],
   "source": [
    "def conT(T, b2):\n",
    "    T_1 = 35\n",
    "    T_2 = T\n",
    "    b1  = (0.5 * 1000 * 4000)**0.5            # human skin\n",
    "    T_c      = (b1 * T_1 + b2 * T_2) / (b1 + b2)\n",
    "    return T_c\n",
    "@widgets.interact(b2=(0, 2000))#_manual\n",
    "def plot(b2, grid=True):\n",
    "    T = np.linspace(0., 50, 100)\n",
    "    fig, ax = plt.subplots(1, 1, figsize=(7, 3))\n",
    "    ax.plot(T, conT(T, b2))\n",
    "    ax.set_xlabel('T second media')\n",
    "    ax.set_ylabel('Contact Temperature')\n",
    "    ax.grid(grid)"
   ]
  },
  {
   "cell_type": "code",
   "execution_count": null,
   "metadata": {},
   "outputs": [],
   "source": []
  },
  {
   "cell_type": "markdown",
   "metadata": {
    "editable": true,
    "slideshow": {
     "slide_type": ""
    },
    "tags": []
   },
   "source": [
    "```{admonition} Questions\n",
    ":class: full-width\n",
    " \n",
    "Do you understand the influence of the individual variables? \n",
    "\n",
    "If not, use the rocket and calculate with other values.;-)!\n",
    "```"
   ]
  },
  {
   "cell_type": "markdown",
   "metadata": {
    "editable": true,
    "slideshow": {
     "slide_type": ""
    },
    "tags": []
   },
   "source": [
    "Now follows the numerical calculation with the forward step method of Euler (explicit forward). For more about it look at [Euler](https://aquaulb.github.io/book_solving_pde_mooc/solving_pde_mooc/notebooks/02_TimeIntegration/02_01_EulerMethod.html)."
   ]
  },
  {
   "cell_type": "markdown",
   "metadata": {
    "editable": true,
    "slideshow": {
     "slide_type": ""
    },
    "tags": []
   },
   "source": [
    "```{admonition} Questions\n",
    ":class: full-width\n",
    " \n",
    "Before we discuss the programme code, try to understand what is shown in the diagram:\n",
    "\n",
    "- what happens at the contact point?\n",
    "- What do you observe in terms of temperature changes at the edges?\n",
    "- are both ok, or does physics speak against it?\n",
    "```"
   ]
  },
  {
   "cell_type": "code",
   "execution_count": 3,
   "metadata": {
    "editable": true,
    "slideshow": {
     "slide_type": ""
    },
    "tags": [
     "hide-input"
    ]
   },
   "outputs": [
    {
     "ename": "IndentationError",
     "evalue": "unexpected indent (1284092528.py, line 96)",
     "output_type": "error",
     "traceback": [
      "\u001b[1;36m  File \u001b[1;32m\"C:\\Users\\beck\\AppData\\Local\\Temp\\ipykernel_36548\\1284092528.py\"\u001b[1;36m, line \u001b[1;32m96\u001b[0m\n\u001b[1;33m    * (lam_1 / dx * (T1[Nx-2, nt] - T1[Nx-1, nt]) -  lam_2 / dy * (T2[0, nt] - T2[1, nt])))\u001b[0m\n\u001b[1;37m    ^\u001b[0m\n\u001b[1;31mIndentationError\u001b[0m\u001b[1;31m:\u001b[0m unexpected indent\n"
     ]
    }
   ],
   "source": [
    "# Discretitations\n",
    "Nx = 50 # first medium\n",
    "Ny = 50 # second medium\n",
    "Nt = 600\n",
    "dt = 0.1\n",
    "\n",
    "# Initial temperatures\n",
    "T1 = np.zeros((Nx, Nt)) + 36\n",
    "T2 = np.zeros((Ny, Nt)) + 20\n",
    "\n",
    "# Thermal diffusivities\n",
    "lam_1 = 1\n",
    "rhocp_1 = 1000 * 4000\n",
    "lam_2 = 0.04\n",
    "rhocp_2 = 100 * 1000\n",
    "a_1 = lam_1 / rhocp_1\n",
    "a_2 = lam_2 / rhocp_2\n",
    "\n",
    "d1 = 0.1\n",
    "dx = d1 / (Nx - 1)\n",
    "d2 = 0.1\n",
    "dy = d2 / (Ny - 1)\n",
    "x  = np.linspace(0, d1, Nx)\n",
    "y  = np.linspace(d1, d1+d2, Ny)\n",
    "f1 = np.zeros(Nt)\n",
    "f2 = np.zeros(Nt)\n",
    "\n",
    "\n",
    "def dTdt(t, x, alpha, a_lam, e_lam, e_lam2, n_lam, lam_B, r_cv_d, r_cv_n, delta, Ke):         \n",
    "    K = 5\n",
    "    \n",
    "    T_B = x[0: K]\n",
    "    T_L = x[K: K + Ke]\n",
    "    T_BL = x[K + Ke: K + Ke + 1]\n",
    "    \n",
    "    dT_L = np.zeros(Ke)\n",
    "    dT_B = np.zeros(K)\n",
    "    dT_BL = np.zeros(1)\n",
    "    \n",
    "    dB = 0.2     # Dicke der Bodenschicht\n",
    "    dL = 1000    # Höhe der berücksichtigten Luftschicht\n",
    "    c_B = 1500 * 1000\n",
    "    c_BL = 1500 * 1000\n",
    "    dx_BL = 0.03\n",
    "    dx_B = dB / K\n",
    "    #lam_B = 0.55\n",
    "    lam_Bt = lam_B #- 0.0 * np.cos(2*np.pi/24 * (t/3600))\n",
    "    r_B = dx_B / lam_Bt\n",
    "    r_r = 0.2 * 2\n",
    "    c_L = 1.2 * 1000\n",
    "    dx_L = dL / Ke\n",
    "    \n",
    "    if f_I(t) <= 10:\n",
    "        I_s = 0\n",
    "        lam_e = n_lam\n",
    "        r_cv_v = r_cv_n #/ (1 + np.log(1 + f_v(t)))\n",
    "        #r_B = 0.08\n",
    "    else:\n",
    "        I_s = f_I(t)\n",
    "        r_cv_v = r_cv_d / (1 + np.log(1 + f_v(t)))\n",
    "        #lam_e = a_lam * np.exp(e_lam/100 * abs(T_B[0] - T_L[0]))\n",
    "       # lam_e = a_lam * np.exp(e_lam/100 * ((T_B[0] - f_TL(t)))**1) #T_L[0]))\n",
    "    #print(lam_e)\n",
    "        lam_e = a_lam * np.exp(e_lam/100 * (1 + 2*np.log(1 + f_v(t))))#lambda der Eddies\n",
    "    r_e = dx_L / lam_e\n",
    "\n",
    "    dT_BL[0] = (0.5 * I_s * alpha - 1/r_cv_v * (T_BL[0] - T_L[0]) \n",
    "            - 1/r_r * (T_BL[0] - T_H(T_L[0], f_phi(t)))) / (c_BL * dx_BL / 2)\n",
    "    \n",
    "    dT_B[0] = (0.5 * I_s * alpha - 1/r_B * (T_B[0] - T_B[1]) - 1/r_cv_v * (T_B[0] - T_L[0]) \n",
    "               #- 1/r_r * (T_B[0] - T_H(f_TL(t), f_phi(t)))) / (c_B * dx_B / 2)\n",
    "                - 1/r_r * (T_B[0] - T_H(T_L[0], f_phi(t)))) / (c_B * dx_B / 2)\n",
    "    #print(T_H(f_TL(t), f_phi(t)))\n",
    "               #- 1/r_r * (T_B[0] - (T_L[0] - delta))) / (c_B * dx_B / 2)\n",
    "    for k in range(1, K-1):\n",
    "        dT_B[k] = lam_Bt / c_B / dx_B**2 * (T_B[k - 1]  - 2 * T_B[k] + T_B[k + 1])\n",
    "    dT_B[K-1] = 0\n",
    "        \n",
    "    dT_L[0] = (1/r_cv_v *(T_B[0] - T_L[0]) - 1/r_e * (T_L[0] - T_L[1])) / (c_L * dx_L / 2)\n",
    "    for k in range(1, Ke-1):\n",
    "        dT_L[k] = lam_e / c_L / dx_L**2 * (T_L[k - 1]  - 2 * T_L[k] + T_L[k + 1])\n",
    "    dT_L[Ke-1] = 0#- 5 * 2 / c_L / dx_L * 2 \n",
    "    \n",
    "    y = np.concatenate((dT_B, dT_L, dT_BL))\n",
    "    #y = dT_L\n",
    "    return y\n",
    "\n",
    "\n",
    "# Euler forward\n",
    "\n",
    "def dTdt():\n",
    "    for nt in range(0, Nt-1):\n",
    "        for nx in range(1, Nx-1):\n",
    "            dT1[nx] = 1 / dx**2 * a_1 * (T1[nx+1, nt] + T1[nx-1, nt] - 2*T1[nx, nt])\n",
    "        dT1[Nx-1] = 1 / ((dx * rhocp_1 + dy * rhocp_2) * 0.5) \n",
    "                    * (lam_1 / dx * (T1[Nx-2, nt] - T1[Nx-1, nt]) -  lam_2 / dy * (T2[0, nt] - T2[1, nt])))\n",
    "        #T2[0, nt+1]  = T1[Nx-1, nt+1] # Contacttemperature\n",
    "    #T2[0, nt+1] = T2[0, nt] + (dt / ((dx * rhocp_1 + dy * rhocp_2) * 0.5) \n",
    "     #               * (lam_1 / dx * (T1[Nx-2, nt] - T1[Nx-1, nt]) -  lam_2 / dy * (T2[0, nt] - T2[1, nt])))\n",
    "    #for ny in range(1, Ny-1):\n",
    "    #    T2[ny, nt+1] = T2[ny, nt] + dt / dy**2 * a_2 * (T2[ny+1, nt] + T2[ny-1, nt] - 2*T2[ny, nt])\n",
    "    return dT1\n",
    "#f1[:] = lam_1 / dx * (T1[-2, :] - T1[-1, :])\n",
    "#f2[:] = lam_2 / dy * (T2[0, :] - T2[1, :])\n",
    "\n",
    "# Design a figure with plot-axes (ax)\n",
    "fig, ax = plt.subplots(figsize=(11, 5))\n",
    "ax.plot(f1)\n",
    "ax.plot(f2)\n",
    "#ax.plot(x, T1[:, ::10], 'r-')\n",
    "#ax.plot(y, T2[:, ::10], 'b-')\n",
    "ax.set_ylabel('T /°C')\n",
    "ax.set_xlabel('x / m')\n",
    "Med1 = \"Medium 1\"\n",
    "Med2 = \"Medium 2\"\n",
    "#ax.text(0.25, .51, Med1, fontsize=11, transform=ax.transAxes)\n",
    "#ax.text(0.75, .51, Med2, fontsize=11, transform=ax.transAxes)\n",
    "ax.grid()\n",
    "plt.show()"
   ]
  },
  {
   "cell_type": "code",
   "execution_count": null,
   "metadata": {
    "editable": true,
    "slideshow": {
     "slide_type": ""
    },
    "tags": []
   },
   "outputs": [],
   "source": [
    "print('Contact-temperature =', f'{T1[-1, -1]:.2f}', '°C')"
   ]
  },
  {
   "cell_type": "markdown",
   "metadata": {
    "editable": true,
    "slideshow": {
     "slide_type": ""
    },
    "tags": []
   },
   "source": [
    "```{admonition} Exercises\n",
    ":class: full-width\n",
    "\n",
    "Now it's your turn! Modify \n",
    "\n",
    "- the discretisation in place and time\n",
    "- the material properties and\n",
    "\n",
    "write down what happens!\n",
    "\n",
    "What is the contact temperature between skin and wood?\n",
    "\n",
    "And between skin an glas?\n",
    "\n",
    "What are the differences to the exactly calculated values from equation {eq}`Tc`.\n",
    "```"
   ]
  },
  {
   "cell_type": "code",
   "execution_count": null,
   "metadata": {
    "editable": true,
    "slideshow": {
     "slide_type": ""
    },
    "tags": []
   },
   "outputs": [],
   "source": []
  }
 ],
 "metadata": {
  "kernelspec": {
   "display_name": "Python 3 (ipykernel)",
   "language": "python",
   "name": "python3"
  },
  "language_info": {
   "codemirror_mode": {
    "name": "ipython",
    "version": 3
   },
   "file_extension": ".py",
   "mimetype": "text/x-python",
   "name": "python",
   "nbconvert_exporter": "python",
   "pygments_lexer": "ipython3",
   "version": "3.7.1"
  },
  "toc": {
   "base_numbering": 1,
   "nav_menu": {},
   "number_sections": false,
   "sideBar": true,
   "skip_h1_title": false,
   "title_cell": "Table of Contents",
   "title_sidebar": "Contents",
   "toc_cell": false,
   "toc_position": {},
   "toc_section_display": true,
   "toc_window_display": false
  }
 },
 "nbformat": 4,
 "nbformat_minor": 4
}