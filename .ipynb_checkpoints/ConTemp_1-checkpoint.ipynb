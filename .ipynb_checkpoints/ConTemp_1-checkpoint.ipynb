{
 "cells": [
  {
   "cell_type": "markdown",
   "metadata": {
    "editable": true,
    "slideshow": {
     "slide_type": ""
    },
    "tags": []
   },
   "source": [
    "# ConTemp Notebook\n",
    "\n",
    "The content for the current page can be downloaded here {download}`this notebook file <./ConTemp_1.ipynb>`.\n",
    "\n",
    "The script is here {download}`Script <./F.pdf>`.\n",
    "\n",
    "If you want to run the notebook press the rocket bottum which connects you to binder. Wait a little ...\n",
    "\n",
    "This notebook is about getting to know the contact temperature and how it comes about."
   ]
  },
  {
   "cell_type": "code",
   "execution_count": 1,
   "metadata": {
    "editable": true,
    "slideshow": {
     "slide_type": ""
    },
    "tags": []
   },
   "outputs": [],
   "source": [
    "# Load packages\n",
    "from matplotlib import rcParams, cycler\n",
    "import matplotlib.pyplot as plt\n",
    "import numpy as np\n",
    "import ipywidgets as widgets\n",
    "from ipywidgets import HBox, VBox\n",
    "#%matplotlib ipympl"
   ]
  },
  {
   "cell_type": "markdown",
   "metadata": {
    "editable": true,
    "slideshow": {
     "slide_type": ""
    },
    "tags": []
   },
   "source": [
    "## Calculation of  a contact temperature between to media"
   ]
  },
  {
   "cell_type": "markdown",
   "metadata": {
    "editable": true,
    "slideshow": {
     "slide_type": ""
    },
    "tags": []
   },
   "source": [
    "Recent calculation and measurements defining human touch can be found here [NASA](https://ntrs.nasa.gov/api/citations/20100020960/downloads/20100020960.pdf)."
   ]
  },
  {
   "cell_type": "markdown",
   "metadata": {
    "editable": true,
    "slideshow": {
     "slide_type": ""
    },
    "tags": []
   },
   "source": [
    "The contact temperature $T_c$ is a special mean between the temperatures of both media weighted by their thermal effusivities $b$\n",
    "\n",
    "```{math}\n",
    ":label: Tc\n",
    "\\begin{equation}\n",
    "T_c = \\frac{b_1\\, T_1 + b_2 \\,T_2}{b_1 + b_2}\n",
    "\\end{equation}\n",
    "```"
   ]
  },
  {
   "cell_type": "code",
   "execution_count": 2,
   "metadata": {
    "editable": true,
    "slideshow": {
     "slide_type": ""
    },
    "tags": []
   },
   "outputs": [
    {
     "name": "stdout",
     "output_type": "stream",
     "text": [
      "Contact-Temperature = 32.08 °C\n"
     ]
    }
   ],
   "source": [
    "# Calculating Tc a first example\n",
    "rhocp_1 = 1000 * 4000            # human skin\n",
    "lam_1    = 0.5\n",
    "b_1      =(lam_1 * rhocp_1)**0.5 # thermal effusivity\n",
    "\n",
    "rhocp_2 = 700 * 2000 # wood\n",
    "lam_2    = 0.15\n",
    "b_2      =(lam_2 * rhocp_2)**0.5\n",
    "\n",
    "T_1      = 36\n",
    "T_2      = 20  \n",
    "\n",
    "T_c      = (b_1 * T_1 + b_2 * T_2) /(b_1 + b_2)\n",
    "print('Contact-Temperature =', f'{T_c:.2f}', '°C')"
   ]
  },
  {
   "cell_type": "code",
   "execution_count": 14,
   "metadata": {},
   "outputs": [
    {
     "data": {
      "application/vnd.jupyter.widget-view+json": {
       "model_id": "4ad1ec8571874747bad1fdc54fc74ccd",
       "version_major": 2,
       "version_minor": 0
      },
      "text/plain": [
       "interactive(children=(IntSlider(value=1000, description='b2', max=2000), Checkbox(value=True, description='gri…"
      ]
     },
     "metadata": {},
     "output_type": "display_data"
    }
   ],
   "source": [
    "def conT(T, b2):\n",
    "    T_1 = 35\n",
    "    T_2 = T\n",
    "    b1  = (0.5 * 1000 * 4000)**0.5            # human skin\n",
    "    T_c      = (b1 * T_1 + b2 * T_2) / (b1 + b2)\n",
    "    return T_c\n",
    "@widgets.interact(b2=(0, 2000))#_manual\n",
    "def plot(b2, grid=True):\n",
    "    T = np.linspace(0., 50, 100)\n",
    "    fig, ax = plt.subplots(1, 1, figsize=(7, 3))\n",
    "    ax.plot(T, conT(T, b2))\n",
    "    ax.set_xlabel('T second media')\n",
    "    ax.set_ylabel('Contact Temperature')\n",
    "    ax.grid(grid)"
   ]
  },
  {
   "cell_type": "code",
   "execution_count": null,
   "metadata": {},
   "outputs": [],
   "source": []
  },
  {
   "cell_type": "markdown",
   "metadata": {
    "editable": true,
    "slideshow": {
     "slide_type": ""
    },
    "tags": []
   },
   "source": [
    "```{admonition} Questions\n",
    ":class: full-width\n",
    " \n",
    "Do you understand the influence of the individual variables? \n",
    "\n",
    "If not, use the rocket and calculate with other values.;-)!\n",
    "```"
   ]
  },
  {
   "cell_type": "markdown",
   "metadata": {
    "editable": true,
    "slideshow": {
     "slide_type": ""
    },
    "tags": []
   },
   "source": [
    "Now follows the numerical calculation with the forward step method of Euler (explicit forward). For more about it look at [Euler](https://aquaulb.github.io/book_solving_pde_mooc/solving_pde_mooc/notebooks/02_TimeIntegration/02_01_EulerMethod.html)."
   ]
  },
  {
   "cell_type": "markdown",
   "metadata": {
    "editable": true,
    "slideshow": {
     "slide_type": ""
    },
    "tags": []
   },
   "source": [
    "```{admonition} Questions\n",
    ":class: full-width\n",
    " \n",
    "Before we discuss the programme code, try to understand what is shown in the diagram:\n",
    "\n",
    "- what happens at the contact point?\n",
    "- What do you observe in terms of temperature changes at the edges?\n",
    "- are both ok, or does physics speak against it?\n",
    "```"
   ]
  },
  {
   "cell_type": "code",
   "execution_count": null,
   "metadata": {
    "editable": true,
    "slideshow": {
     "slide_type": ""
    },
    "tags": [
     "hide-input"
    ]
   },
   "outputs": [],
   "source": [
    "# Discretitations\n",
    "Nx = 20 # first medium\n",
    "Ny = 20 # second medium\n",
    "Nt = 50\n",
    "dt = 60\n",
    "\n",
    "# Initial temperatures\n",
    "T1 = np.zeros((Nx, Nt)) + 36\n",
    "T2 = np.zeros((Ny, Nt)) + 20\n",
    "\n",
    "# Thermal diffusivities\n",
    "a_1 = lam_1 / rhocp_1\n",
    "a_2 = lam_2 / rhocp_2\n",
    "\n",
    "d1 = 0.1\n",
    "dx = d1 / (Nx - 1)\n",
    "d2 = 0.1\n",
    "dy = d2 / (Ny - 1)\n",
    "x  = np.linspace(0, d1, Nx)\n",
    "y  = np.linspace(d1, d1+d2, Ny)\n",
    "\n",
    "# Euler forward\n",
    "for nt in range(0, Nt-1):\n",
    "    for nx in range(1, Nx-1):\n",
    "        T1[nx, nt+1] = T1[nx, nt] + dt / dx**2 * a_1 * (T1[nx+1, nt] + T1[nx-1, nt] - 2*T1[nx, nt])\n",
    "    T1[Nx-1, nt+1] = (T1[Nx-1, nt] + dt / ((dx * rhocp_1 + dy * rhocp_2) * 0.5) \n",
    "                    * (lam_1 / dx * (T1[Nx-2, nt] - T1[Nx-1, nt]) -  lam_2 / dy * (T2[0, nt] - T2[1, nt]))  )\n",
    "    T2[0, nt+1]  = T1[Nx-1, nt+1] # Contacttemperature\n",
    "    for ny in range(1, Ny-1):\n",
    "        T2[ny, nt+1] = T2[ny, nt] + dt / dy**2 * a_2 * (T2[ny+1, nt] + T2[ny-1, nt] - 2*T2[ny, nt])\n",
    "\n",
    "# Design a figure with plot-axes (ax)\n",
    "fig, ax = plt.subplots(figsize=(11, 5))\n",
    "ax.plot(x, T1[:, ::10], 'r-')\n",
    "ax.plot(y, T2[:, ::10], 'b-')\n",
    "ax.set_ylabel('T /°C')\n",
    "ax.set_xlabel('x / m')\n",
    "Med1 = \"Medium 1\"\n",
    "Med2 = \"Medium 2\"\n",
    "ax.text(0.25, .51, Med1, fontsize=11, transform=ax.transAxes)\n",
    "ax.text(0.75, .51, Med2, fontsize=11, transform=ax.transAxes)\n",
    "ax.grid()\n",
    "plt.show()"
   ]
  },
  {
   "cell_type": "code",
   "execution_count": null,
   "metadata": {
    "editable": true,
    "slideshow": {
     "slide_type": ""
    },
    "tags": []
   },
   "outputs": [],
   "source": [
    "print('Contact-temperature =', f'{T1[-1, -1]:.2f}', '°C')"
   ]
  },
  {
   "cell_type": "markdown",
   "metadata": {
    "editable": true,
    "slideshow": {
     "slide_type": ""
    },
    "tags": []
   },
   "source": [
    "```{admonition} Exercises\n",
    ":class: full-width\n",
    "\n",
    "Now it's your turn! Modify \n",
    "\n",
    "- the discretisation in place and time\n",
    "- the material properties and\n",
    "\n",
    "write down what happens!\n",
    "\n",
    "What is the contact temperature between skin and wood?\n",
    "\n",
    "And between skin an glas?\n",
    "\n",
    "What are the differences to the exactly calculated values from equation {eq}`Tc`.\n",
    "```"
   ]
  },
  {
   "cell_type": "code",
   "execution_count": null,
   "metadata": {
    "editable": true,
    "slideshow": {
     "slide_type": ""
    },
    "tags": []
   },
   "outputs": [],
   "source": []
  }
 ],
 "metadata": {
  "kernelspec": {
   "display_name": "Python 3 (ipykernel)",
   "language": "python",
   "name": "python3"
  },
  "language_info": {
   "codemirror_mode": {
    "name": "ipython",
    "version": 3
   },
   "file_extension": ".py",
   "mimetype": "text/x-python",
   "name": "python",
   "nbconvert_exporter": "python",
   "pygments_lexer": "ipython3",
   "version": "3.11.7"
  },
  "toc": {
   "base_numbering": 1,
   "nav_menu": {},
   "number_sections": false,
   "sideBar": true,
   "skip_h1_title": false,
   "title_cell": "Table of Contents",
   "title_sidebar": "Contents",
   "toc_cell": false,
   "toc_position": {},
   "toc_section_display": true,
   "toc_window_display": false
  }
 },
 "nbformat": 4,
 "nbformat_minor": 4
}
